{
 "cells": [
  {
   "cell_type": "markdown",
   "id": "confused-starter",
   "metadata": {
    "nbgrader": {
     "grade": false,
     "grade_id": "cell-a9ab75444fb54735",
     "locked": true,
     "schema_version": 3,
     "solution": false,
     "task": false
    }
   },
   "source": [
    "# Aufgabe 1\n",
    "Vervollständie die folgende Funktion, welche die Stunde aus einer erhaltenen E-Mail herausfiltert und die Häufigkeit mithilfe von yield ausgibt.\n",
    "\n",
    "Datei ist in folgendem Format geschrieben:\n",
    "\n",
    "~~~~\n",
    "From max.mustermann@fh-swf.de Sat Jan 5 09:14:16 2019\n",
    "Message\n",
    "Hallo,\n",
    "\n",
    "das ist meine super E-Mail.\n",
    "From susanne.mustermann@fh-swf.de Sun Jan 6 16:31:02 2019\n",
    "Message\n",
    "Danke für die E-Mail!\n",
    "~~~~\n",
    "\n",
    "Beispiel Ausgabe:<br>\n",
    "('09', 1)<br>\n",
    "('16', 1)<br>\n",
    "<br>\n",
    "Die Stunde steht immer in der Zeile, welche mit 'From ' beginnt.\n",
    "\n",
    "<b>Hinweis</b>:\n",
    "- die Zeiten müssen sortiert nach der Stunde ausgegeben werden\n",
    "- die Ausgabe erfolgt als Tuple im Format (stunde, stunde_vorkommen)\n",
    "- es kann vorkommen, dass in einer 'From ' Zeile bis zu 2 Leerzeichen hintereinander vorkommen"
   ]
  },
  {
   "cell_type": "code",
   "execution_count": 39,
   "id": "breathing-software",
   "metadata": {
    "nbgrader": {
     "grade": false,
     "grade_id": "cell-d5f0431c8aca09d5",
     "locked": false,
     "schema_version": 3,
     "solution": true,
     "task": false
    }
   },
   "outputs": [
    {
     "ename": "IndentationError",
     "evalue": "expected an indented block (<ipython-input-39-f9551a50a9b2>, line 8)",
     "output_type": "error",
     "traceback": [
      "\u001b[0;36m  File \u001b[0;32m\"<ipython-input-39-f9551a50a9b2>\"\u001b[0;36m, line \u001b[0;32m8\u001b[0m\n\u001b[0;31m    for i in get_hour_frequency(\"email_test.txt\"):\u001b[0m\n\u001b[0m      ^\u001b[0m\n\u001b[0;31mIndentationError\u001b[0m\u001b[0;31m:\u001b[0m expected an indented block\n"
     ]
    }
   ],
   "source": [
    "import collections\n",
    "\n",
    "def get_hour_frequency(datei: str) -> tuple:\n",
    "    \n",
    "    ### BEGIN SOLUTION\n",
    "    ### END SOLUTION\n",
    "    \n",
    "for i in get_hour_frequency(\"email_test.txt\"):\n",
    "    print(i)"
   ]
  },
  {
   "cell_type": "code",
   "execution_count": 38,
   "id": "judicial-aquarium",
   "metadata": {
    "nbgrader": {
     "grade": true,
     "grade_id": "cell-aacd27206f9a7ad1",
     "locked": true,
     "points": 10,
     "schema_version": 3,
     "solution": false,
     "task": false
    }
   },
   "outputs": [],
   "source": [
    "from nose.tools import assert_equal\n",
    "\n",
    "answer_test = [('09', 1), ('16', 1)]\n",
    "answer = [('00', 408), ('01', 392), ('02', 431), ('03', 439), ('04', 432), ('05', 418), ('06', 436), ('07', 389), ('08', 425), ('09', 408), ('10', 414), ('11', 426), ('12', 422), ('13', 401), ('14', 427), ('15', 446), ('16', 394), ('17', 421), ('18', 428), ('19', 428), ('20', 394), ('21', 428), ('22', 381), ('23', 412)]\n",
    "\n",
    "for i, k in enumerate(get_hour_frequency(\"email_test.txt\")):\n",
    "    assert_equal(k, answer_test[i])\n",
    "    \n",
    "for i, k in enumerate(get_hour_frequency(\"emails.txt\")):\n",
    "    assert_equal(k, answer[i])"
   ]
  }
 ],
 "metadata": {
  "celltoolbar": "Create Assignment",
  "kernelspec": {
   "display_name": "Python 3",
   "language": "python",
   "name": "python3"
  },
  "language_info": {
   "codemirror_mode": {
    "name": "ipython",
    "version": 3
   },
   "file_extension": ".py",
   "mimetype": "text/x-python",
   "name": "python",
   "nbconvert_exporter": "python",
   "pygments_lexer": "ipython3",
   "version": "3.7.3"
  }
 },
 "nbformat": 4,
 "nbformat_minor": 5
}
