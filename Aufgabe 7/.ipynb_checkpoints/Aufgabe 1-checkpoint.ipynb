{
 "cells": [
  {
   "cell_type": "markdown",
   "id": "settled-completion",
   "metadata": {
    "nbgrader": {
     "grade": false,
     "grade_id": "cell-6ce15e1922471980",
     "locked": true,
     "schema_version": 3,
     "solution": false,
     "task": false
    }
   },
   "source": [
    "# Aufgabe 1\n",
    "\n",
    "Vervollständie die folgende Funktion, welche die E-Mail Adressen aus einer Datei herausfiltert, die mit dem jeweiligen Vorkommen in ein Dictionary gespeichert wird und zum Schluss eine Liste von Tupel erstellt, mit dem Tupel Format (email, email_vorkommen).\n",
    "\n",
    "Datei ist in folgendem Format geschrieben:\n",
    "\n",
    "~~~~\n",
    "From max.mustermann@fh-swf.de Sat Jan 5 09:14:16 2019\n",
    "Message\n",
    "Hallo,\n",
    "\n",
    "das ist meine super E-Mail.\n",
    "From susanne.mustermann@fh-swf.de Sun Jan 6 16:31:02 2019\n",
    "Message\n",
    "Danke für die E-Mail!\n",
    "~~~~\n",
    "\n",
    "Beispiel Ausgabe: [(susanne.mustermann@fh-swf.de, 1), (max.mustermann@fh-swf.de, 1)]\n",
    "<br>Die E-Mail Adresse steht immer in der Zeile, welche mit 'From ' beginnt.\n",
    "\n",
    "<b>Hinweis:</b> Die Tupel Liste wird sortiert nach email_vorkommen, bei gleichem vorkommen zweier E-Mail Adressen wird absteigend nach dem Alphabet sortiert."
   ]
  },
  {
   "cell_type": "code",
   "execution_count": 18,
   "id": "muslim-rebel",
   "metadata": {
    "nbgrader": {
     "grade": false,
     "grade_id": "cell-ccd91dbaa4841a38",
     "locked": false,
     "schema_version": 3,
     "solution": true,
     "task": false
    }
   },
   "outputs": [
    {
     "name": "stdout",
     "output_type": "stream",
     "text": [
      "[('susanne.mustermann@fh-swf.de', 1), ('max.mustermann@fh-swf.de', 1)]\n"
     ]
    }
   ],
   "source": [
    "def count_email_adresses(datei: str) -> list:\n",
    "    email_dict = dict()\n",
    "    tupel_list = []\n",
    "    \n",
    "    ### BEGIN SOLUTION\n",
    "    ### END SOLUTION\n",
    "    \n",
    "    return tupel_list\n",
    "\n",
    "print(count_email_adresses('email_test.txt'))"
   ]
  },
  {
   "cell_type": "code",
   "execution_count": 3,
   "id": "toxic-senator",
   "metadata": {
    "nbgrader": {
     "grade": true,
     "grade_id": "cell-4b6aada986345420",
     "locked": true,
     "points": 10,
     "schema_version": 3,
     "solution": false,
     "task": false
    }
   },
   "outputs": [
    {
     "ename": "NameError",
     "evalue": "name 'count_email_adresses' is not defined",
     "output_type": "error",
     "traceback": [
      "\u001b[0;31m---------------------------------------------------------------------------\u001b[0m",
      "\u001b[0;31mNameError\u001b[0m                                 Traceback (most recent call last)",
      "\u001b[0;32m<ipython-input-3-f2056e4248e1>\u001b[0m in \u001b[0;36m<module>\u001b[0;34m\u001b[0m\n\u001b[1;32m      9\u001b[0m     \u001b[0;32mreturn\u001b[0m \u001b[0mhex\u001b[0m\u001b[0;34m(\u001b[0m\u001b[0mhash\u001b[0m\u001b[0;34m)\u001b[0m\u001b[0;34m[\u001b[0m\u001b[0;36m2\u001b[0m\u001b[0;34m:\u001b[0m\u001b[0;34m]\u001b[0m\u001b[0;34m.\u001b[0m\u001b[0mupper\u001b[0m\u001b[0;34m(\u001b[0m\u001b[0;34m)\u001b[0m\u001b[0;34m.\u001b[0m\u001b[0mzfill\u001b[0m\u001b[0;34m(\u001b[0m\u001b[0;36m8\u001b[0m\u001b[0;34m)\u001b[0m\u001b[0;34m\u001b[0m\u001b[0;34m\u001b[0m\u001b[0m\n\u001b[1;32m     10\u001b[0m \u001b[0;34m\u001b[0m\u001b[0m\n\u001b[0;32m---> 11\u001b[0;31m \u001b[0massert_equal\u001b[0m\u001b[0;34m(\u001b[0m\u001b[0mmyHash\u001b[0m\u001b[0;34m(\u001b[0m\u001b[0mjson\u001b[0m\u001b[0;34m.\u001b[0m\u001b[0mdumps\u001b[0m\u001b[0;34m(\u001b[0m\u001b[0mcount_email_adresses\u001b[0m\u001b[0;34m(\u001b[0m\u001b[0;34m'email_test.txt'\u001b[0m\u001b[0;34m)\u001b[0m\u001b[0;34m)\u001b[0m\u001b[0;34m)\u001b[0m\u001b[0;34m,\u001b[0m \u001b[0;34m'4CFD12DB'\u001b[0m\u001b[0;34m)\u001b[0m\u001b[0;34m\u001b[0m\u001b[0;34m\u001b[0m\u001b[0m\n\u001b[0m\u001b[1;32m     12\u001b[0m \u001b[0massert_equal\u001b[0m\u001b[0;34m(\u001b[0m\u001b[0mmyHash\u001b[0m\u001b[0;34m(\u001b[0m\u001b[0mjson\u001b[0m\u001b[0;34m.\u001b[0m\u001b[0mdumps\u001b[0m\u001b[0;34m(\u001b[0m\u001b[0mcount_email_adresses\u001b[0m\u001b[0;34m(\u001b[0m\u001b[0;34m'emails.txt'\u001b[0m\u001b[0;34m)\u001b[0m\u001b[0;34m)\u001b[0m\u001b[0;34m)\u001b[0m\u001b[0;34m,\u001b[0m \u001b[0;34m'D67CA615'\u001b[0m\u001b[0;34m)\u001b[0m\u001b[0;34m\u001b[0m\u001b[0;34m\u001b[0m\u001b[0m\n",
      "\u001b[0;31mNameError\u001b[0m: name 'count_email_adresses' is not defined"
     ]
    }
   ],
   "source": [
    "from nose.tools import assert_equal\n",
    "import json\n",
    "\n",
    "def myHash(text: str):\n",
    "    hash=0\n",
    "    for ch in text:\n",
    "        hash = ( hash*281  ^ ord(ch)*997) & 0xFFFFFFFF\n",
    "    \n",
    "    return hex(hash)[2:].upper().zfill(8)\n",
    "\n",
    "assert_equal(myHash(json.dumps(count_email_adresses('email_test.txt'))), '4CFD12DB')\n",
    "assert_equal(myHash(json.dumps(count_email_adresses('emails.txt'))), 'D67CA615')"
   ]
  }
 ],
 "metadata": {
  "celltoolbar": "Create Assignment",
  "kernelspec": {
   "display_name": "Python 3",
   "language": "python",
   "name": "python3"
  },
  "language_info": {
   "codemirror_mode": {
    "name": "ipython",
    "version": 3
   },
   "file_extension": ".py",
   "mimetype": "text/x-python",
   "name": "python",
   "nbconvert_exporter": "python",
   "pygments_lexer": "ipython3",
   "version": "3.7.3"
  }
 },
 "nbformat": 4,
 "nbformat_minor": 5
}
