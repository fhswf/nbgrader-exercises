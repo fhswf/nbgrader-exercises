{
 "cells": [
  {
   "cell_type": "markdown",
   "id": "stainless-metropolitan",
   "metadata": {
    "nbgrader": {
     "grade": false,
     "grade_id": "cell-248ec20fc1cde03a",
     "locked": true,
     "schema_version": 3,
     "solution": false,
     "task": false
    }
   },
   "source": [
    "# Aufgabe 2\n",
    "\n",
    "Vervollständie die folgende Funktion, welche alle Wörter aus einem Text in eine Liste, alphabetisch sortiert, einfügt und zurückgibt. Jedes Wort darf in der Liste nur einmal vorkommen. Zum sortieren der Liste, sollte die Funktion <b>sorted()</b> verwendet werden.\n",
    "\n",
    "Folgende Zeichen müssen entfernt werden:\n",
    "\n",
    "- \"\\n\"\n",
    "- \".\"\n",
    "- \",\"\n",
    "- \"«\"\n",
    "- \"»\"\n",
    "\n",
    "Beispiel Ausgabe der Testdaten:\n",
    "\n",
    "['08', 'Ablenkung', 'Anfahrt', 'Auflagen', 'Auswerten', 'Blutalkohol', 'Das', 'Die', 'Durch', 'Fahrer', 'Fahrern', 'Fahrstil', 'Forscher', 'Frage', 'Freisprechanlage', 'Gefährt', 'Grad', 'Handy', 'Handys', 'Insassen', 'Mal', 'Promille', 'Simulation', 'Sowohl', 'Studien', 'Telefonieren', 'Telefonierende', 'Unfall', 'Unterschied', 'Verglichen', 'Wahrscheinlichkeit', 'Zeit', 'aber', 'aktueller', 'als', 'an', 'andere', 'auch', 'beeinflussten', 'benötigen', 'besonders', 'bremsten', 'danach', 'das', 'dass', 'den', 'der', 'die', 'eher', 'einen', 'erlauben', 'es', 'etwas', 'früherer', 'führ', 'fünf', 'für', 'geben', 'gleiche', 'ihr', 'im', 'in', 'keinen', 'konzentrierten', 'langsamer', 'mehr', 'mit', 'später', 'stellt', 'steuerten', 'telefonierenden', 'und', 'verbieten', 'verwickelt', 'werden', 'zeigen', 'zeigten', 'über']"
   ]
  },
  {
   "cell_type": "code",
   "execution_count": 13,
   "id": "mature-attention",
   "metadata": {
    "nbgrader": {
     "grade": false,
     "grade_id": "cell-c2221701277a7a38",
     "locked": false,
     "schema_version": 3,
     "solution": true,
     "task": false
    }
   },
   "outputs": [
    {
     "ename": "IndentationError",
     "evalue": "expected an indented block (<ipython-input-13-2e14a3aeaadf>, line 5)",
     "output_type": "error",
     "traceback": [
      "\u001b[0;36m  File \u001b[0;32m\"<ipython-input-13-2e14a3aeaadf>\"\u001b[0;36m, line \u001b[0;32m5\u001b[0m\n\u001b[0;31m    print(get_unique_words(\"testfile_words.txt\"))\u001b[0m\n\u001b[0m        ^\u001b[0m\n\u001b[0;31mIndentationError\u001b[0m\u001b[0;31m:\u001b[0m expected an indented block\n"
     ]
    }
   ],
   "source": [
    "def get_unique_words(datei: str) -> list:\n",
    "    ### BEGIN SOLUTION\n",
    "    ### END SOLUTION\n",
    "    \n",
    "print(get_unique_words(\"testfile_words.txt\"))"
   ]
  },
  {
   "cell_type": "code",
   "execution_count": 14,
   "id": "coordinate-humor",
   "metadata": {
    "nbgrader": {
     "grade": true,
     "grade_id": "cell-5660d2b573199223",
     "locked": true,
     "points": 10,
     "schema_version": 3,
     "solution": false,
     "task": false
    }
   },
   "outputs": [],
   "source": [
    "from nose.tools import assert_equal\n",
    "import json\n",
    "\n",
    "def myHash(text: str):\n",
    "    hash=0\n",
    "    for ch in text:\n",
    "        hash = ( hash*281  ^ ord(ch)*997) & 0xFFFFFFFF\n",
    "    \n",
    "    return hex(hash)[2:].upper().zfill(8)\n",
    "\n",
    "assert_equal(myHash(json.dumps(get_unique_words(\"testfile_words.txt\"))), '12E03804')\n",
    "assert_equal(myHash(json.dumps(get_unique_words(\"romeo.txt\"))), 'AEC119D7')"
   ]
  }
 ],
 "metadata": {
  "celltoolbar": "Create Assignment",
  "kernelspec": {
   "display_name": "Python 3",
   "language": "python",
   "name": "python3"
  },
  "language_info": {
   "codemirror_mode": {
    "name": "ipython",
    "version": 3
   },
   "file_extension": ".py",
   "mimetype": "text/x-python",
   "name": "python",
   "nbconvert_exporter": "python",
   "pygments_lexer": "ipython3",
   "version": "3.7.3"
  }
 },
 "nbformat": 4,
 "nbformat_minor": 5
}
