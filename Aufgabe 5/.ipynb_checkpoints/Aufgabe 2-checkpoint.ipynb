{
 "cells": [
  {
   "cell_type": "markdown",
   "id": "declared-cooper",
   "metadata": {
    "nbgrader": {
     "grade": false,
     "grade_id": "cell-248ec20fc1cde03a",
     "locked": true,
     "schema_version": 3,
     "solution": false,
     "task": false
    }
   },
   "source": [
    "# Aufgabe 2\n",
    "\n",
    "Vervollständie die folgende Funktion, welche alle Wörter aus einem Text in eine Liste, alphabetisch sortiert, einfügt und zurückgibt. Jedes Wort darf in der Liste nur einmal vorkommen. Zum sortieren der Liste, sollte die Funktion <b>sorted()</b> verwendet werden. Punkte und Kommata müssen entfernt werden."
   ]
  },
  {
   "cell_type": "code",
   "execution_count": 41,
   "id": "assigned-strap",
   "metadata": {
    "nbgrader": {
     "grade": false,
     "grade_id": "cell-c2221701277a7a38",
     "locked": false,
     "schema_version": 3,
     "solution": true,
     "task": false
    }
   },
   "outputs": [
    {
     "ename": "IndentationError",
     "evalue": "expected an indented block (<ipython-input-41-2e14a3aeaadf>, line 5)",
     "output_type": "error",
     "traceback": [
      "\u001b[0;36m  File \u001b[0;32m\"<ipython-input-41-2e14a3aeaadf>\"\u001b[0;36m, line \u001b[0;32m5\u001b[0m\n\u001b[0;31m    print(get_unique_words(\"testfile_words.txt\"))\u001b[0m\n\u001b[0m        ^\u001b[0m\n\u001b[0;31mIndentationError\u001b[0m\u001b[0;31m:\u001b[0m expected an indented block\n"
     ]
    }
   ],
   "source": [
    "def get_unique_words(datei: str) -> list:\n",
    "    ### BEGIN SOLUTION\n",
    "    ### END SOLUTION\n",
    "    \n",
    "print(get_unique_words(\"testfile_words.txt\"))"
   ]
  },
  {
   "cell_type": "code",
   "execution_count": 40,
   "id": "substantial-parameter",
   "metadata": {
    "nbgrader": {
     "grade": true,
     "grade_id": "cell-5660d2b573199223",
     "locked": true,
     "points": 10,
     "schema_version": 3,
     "solution": false,
     "task": false
    }
   },
   "outputs": [],
   "source": [
    "from nose.tools import assert_equal\n",
    "\n",
    "assert_equal(hash(str(get_unique_words(\"testfile_words.txt\"))), -5854673353873209558)\n",
    "assert_equal(hash(str(get_unique_words(\"romeo.txt\"))), -86696385402832665)"
   ]
  }
 ],
 "metadata": {
  "celltoolbar": "Create Assignment",
  "kernelspec": {
   "display_name": "Python 3",
   "language": "python",
   "name": "python3"
  },
  "language_info": {
   "codemirror_mode": {
    "name": "ipython",
    "version": 3
   },
   "file_extension": ".py",
   "mimetype": "text/x-python",
   "name": "python",
   "nbconvert_exporter": "python",
   "pygments_lexer": "ipython3",
   "version": "3.7.3"
  }
 },
 "nbformat": 4,
 "nbformat_minor": 5
}
