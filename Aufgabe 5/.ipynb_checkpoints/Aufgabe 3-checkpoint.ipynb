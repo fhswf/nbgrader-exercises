{
 "cells": [
  {
   "cell_type": "markdown",
   "id": "lasting-advocacy",
   "metadata": {
    "nbgrader": {
     "grade": false,
     "grade_id": "cell-b9219617ce8b98bd",
     "locked": true,
     "schema_version": 3,
     "solution": false,
     "task": false
    }
   },
   "source": [
    "# Aufgabe 3\n",
    "\n",
    "Vervollständie die folgende Funktion, welche eine Datei einließt, in welcher E-Mails gespeichert sind. Die Datei ist in folgendem Format geschrieben:\n",
    "\n",
    "~~~~\n",
    "From max.mustermann@fh-swf.de Sat Jan 5 09:14:16 2019\n",
    "Message\n",
    "Hallo,\n",
    "\n",
    "das ist meine super E-Mail.\n",
    "From susanne.mustermann@fh-swf.de Sun Jan 6 16:31:02 2019\n",
    "Message\n",
    "Danke für die E-Mail!\n",
    "~~~~\n",
    "\n",
    "Gib ein Tuple zurück, welche als ersten Wert eine Liste aller E-Mail-Adressen beinhaltet und als zweiten Wert die Anzahl aller E-Mail-Adressen, welche aus dem Jahr 2019 stammen.\n",
    "\n",
    "Beispiel Rückgabe mit der \"Datei\", welche oben als Beispiel verwendet worden ist: ([\"max.mustermann@fh-swf.de\", \"susanne.mustermann@fh-swf.de\"], 2)<br>\n",
    "\n",
    "<b>Hinweis:</b> Zur automatischen Korrektur, muss die Liste als Frozenset innerhalb des Tupels zurückgegeben werden. Die Liste \"email_addresses\" kann innerhalb der Funktion jedoch normal verwendet werden."
   ]
  },
  {
   "cell_type": "code",
   "execution_count": 26,
   "id": "medium-clarity",
   "metadata": {
    "nbgrader": {
     "grade": false,
     "grade_id": "cell-ea23f96a318a6cd8",
     "locked": false,
     "schema_version": 3,
     "solution": true,
     "task": false
    }
   },
   "outputs": [
    {
     "name": "stdout",
     "output_type": "stream",
     "text": [
      "(frozenset(), 0)\n"
     ]
    }
   ],
   "source": [
    "def get_email_addresses(datei: str) -> tuple:\n",
    "    email_addresses: list = []\n",
    "    year_2019: int = 0\n",
    "    \n",
    "    ### BEGIN SOLUTION\n",
    "    ### END SOLUTION\n",
    "                \n",
    "    \n",
    "    return (frozenset(email_addresses), year_2019)\n",
    "    \n",
    "print(get_email_addresses(\"email_test.txt\"))"
   ]
  },
  {
   "cell_type": "code",
   "execution_count": 25,
   "id": "hairy-buffer",
   "metadata": {
    "nbgrader": {
     "grade": true,
     "grade_id": "cell-9a32799c5464a003",
     "locked": true,
     "points": 10,
     "schema_version": 3,
     "solution": false,
     "task": false
    }
   },
   "outputs": [],
   "source": [
    "from nose.tools import assert_equal\n",
    "\n",
    "assert_equal(hash(get_email_addresses(\"email_test.txt\")), -7979767667009334678)\n",
    "assert_equal(hash(get_email_addresses(\"emails.txt\")), -3397707965979964180)"
   ]
  }
 ],
 "metadata": {
  "celltoolbar": "Create Assignment",
  "kernelspec": {
   "display_name": "Python 3",
   "language": "python",
   "name": "python3"
  },
  "language_info": {
   "codemirror_mode": {
    "name": "ipython",
    "version": 3
   },
   "file_extension": ".py",
   "mimetype": "text/x-python",
   "name": "python",
   "nbconvert_exporter": "python",
   "pygments_lexer": "ipython3",
   "version": "3.7.3"
  }
 },
 "nbformat": 4,
 "nbformat_minor": 5
}
