{
 "cells": [
  {
   "cell_type": "markdown",
   "id": "looking-blake",
   "metadata": {
    "nbgrader": {
     "grade": false,
     "grade_id": "cell-73b0a2994a09f806",
     "locked": true,
     "schema_version": 3,
     "solution": false,
     "task": false
    }
   },
   "source": [
    "# Zinseszins\n",
    "\n",
    "\n",
    "### Formel\n",
    "$K_{n}=K*(1+\\frac{p}{100})^n$\n",
    "\n",
    "Hierbei ist:<br>\n",
    ">$K_n$ das Kapital nach der Verzinsung<br>\n",
    "$K$ das Startkapital<br>\n",
    "$p$ die Zinszahl<br>\n",
    "$n$ die Anzahl der Jahre<br>\n",
    "\n",
    "### Quelle\n",
    "Eine Erklärung des Zinseszins und die Herleitung der Formel sind auf\n",
    "https://www.gut-erklaert.de/mathematik/zinseszins-berechnen-formel-erklaerung.html\n",
    "zu finden\n",
    "\n",
    "## Aufgabe\n",
    "Schreibe eine Funktion, um den Zinseszins zu berechnen.\n",
    "\n",
    "### Hinweis\n",
    "Achte darauf, dass du nicht in der Zeit zurückreisen kannst und dein Kapital im positiven startet. <br>\n",
    "Wirf eine <b>Exception</b> im Falle eines Fehlers."
   ]
  },
  {
   "cell_type": "code",
   "execution_count": 33,
   "id": "general-attraction",
   "metadata": {
    "nbgrader": {
     "grade": false,
     "grade_id": "cell-5dd5b6bea6f8e411",
     "locked": false,
     "schema_version": 3,
     "solution": true,
     "task": false
    }
   },
   "outputs": [],
   "source": [
    "import math\n",
    "\n",
    "def calculate_compound_interest(K: float, p: float, n: int):\n",
    "    \"\"\"\n",
    "    Funktion um den Zinseszins zu berechnen\n",
    "    \n",
    "    :returns: Kapital nach der Verzinsung\n",
    "    :param K: Startkapital\n",
    "    :param p: Zinszahl\n",
    "    :param n: Anzahl der Jahre\n",
    "    \"\"\"\n",
    "    \n",
    "    K_n: float = None\n",
    "    \n",
    "    ### BEGIN SOLUTION\n",
    "    \n",
    "    ### END SOLUTION\n",
    "    \n",
    "    return K_n"
   ]
  },
  {
   "cell_type": "code",
   "execution_count": 32,
   "id": "approximate-portsmouth",
   "metadata": {
    "nbgrader": {
     "grade": true,
     "grade_id": "cell-5a36737a9698db49",
     "locked": true,
     "points": 10,
     "schema_version": 3,
     "solution": false,
     "task": false
    }
   },
   "outputs": [],
   "source": [
    "from nose.tools import assert_equal, assert_raises\n",
    "\n",
    "assert_equal(calculate_compound_interest(0, 10, 0), 0.0)\n",
    "\n",
    "assert_raises(Exception, calculate_compound_interest, -1, 10, 0)\n",
    "assert_raises(Exception, calculate_compound_interest, -1, 10, 1)\n",
    "\n",
    "assert_equal(calculate_compound_interest(1, -1, 0), 1.0)\n",
    "assert_equal(calculate_compound_interest(1, -1, 1), 0.99)\n",
    "\n",
    "assert_equal(calculate_compound_interest(2000, 3, 0), 2000.0)\n",
    "assert_equal(calculate_compound_interest(2000, 3, 4), 2251.02)\n",
    "assert_equal(calculate_compound_interest(2000, 3, 5), 2318.55)\n",
    "assert_equal(calculate_compound_interest(2000, 3, 6), 2388.10)\n",
    "\n",
    "### BEGIN HIDDEN TESTS\n",
    "assert_raises(Exception, calculate_compound_interest, 1, -1, -1)\n",
    "assert_raises(Exception, calculate_compound_interest, -1, 10, -1)\n",
    "assert_equal(calculate_compound_interest(0, 10, 1), 0.0)\n",
    "assert_raises(Exception, calculate_compound_interest, 0, 10, -1)\n",
    "assert_equal(calculate_compound_interest(2000, 9, 100), 11058081.58)\n",
    "assert_equal(calculate_compound_interest(10000, -1, 10), 9043.82)\n",
    "assert_equal(calculate_compound_interest(20000, 3, 1), 20600.0)\n",
    "### END HIDDEN TESTS"
   ]
  },
  {
   "cell_type": "markdown",
   "id": "better-backing",
   "metadata": {
    "nbgrader": {
     "grade": false,
     "grade_id": "cell-b41e23a8bd1138ac",
     "locked": true,
     "schema_version": 3,
     "solution": false,
     "task": false
    }
   },
   "source": [
    "## Aufgabe\n",
    "Runde das Ergebnis auf 2 Nachkommastellen"
   ]
  },
  {
   "cell_type": "code",
   "execution_count": 39,
   "id": "technical-wildlife",
   "metadata": {
    "nbgrader": {
     "grade": false,
     "grade_id": "cell-deee56cf4be14bc6",
     "locked": false,
     "schema_version": 3,
     "solution": true,
     "task": false
    }
   },
   "outputs": [],
   "source": [
    "def calculate_compound_interest_rounded(K: float, p: float, n: int):\n",
    "    \"\"\"\n",
    "    Funktion um den Zinseszins zu berechnen\n",
    "    \n",
    "    :returns: Kapital nach der Verzinsung gerundet auf 2 Nachkommastellen\n",
    "    :param K: Startkapital\n",
    "    :param p: Zinszahl\n",
    "    :param n: Anzahl der Jahre\n",
    "    \"\"\"\n",
    "    \n",
    "    K_n: float = None\n",
    "    \n",
    "    ### BEGIN SOLUTION\n",
    "    \n",
    "    ### END SOLUTION\n",
    "    \n",
    "    return K_n"
   ]
  },
  {
   "cell_type": "code",
   "execution_count": 40,
   "id": "confidential-battery",
   "metadata": {
    "nbgrader": {
     "grade": true,
     "grade_id": "cell-1f0b9a11b788fb5b",
     "locked": true,
     "points": 10,
     "schema_version": 3,
     "solution": false,
     "task": false
    }
   },
   "outputs": [],
   "source": [
    "from nose.tools import assert_equal, assert_raises\n",
    "\n",
    "assert_equal(calculate_compound_interest_rounded(0, 10, 0), 0.0)\n",
    "\n",
    "assert_raises(Exception, calculate_compound_interest_rounded, -1, 10, 0)\n",
    "assert_raises(Exception, calculate_compound_interest_rounded, -1, 10, 1)\n",
    "\n",
    "assert_equal(calculate_compound_interest_rounded(1, -1, 0), 1.0)\n",
    "assert_equal(calculate_compound_interest_rounded(1, -1, 1), 0.99)\n",
    "\n",
    "assert_equal(calculate_compound_interest_rounded(2000, 3, 0), 2000.0)\n",
    "assert_equal(calculate_compound_interest_rounded(2000, 3, 4), 2251.02)\n",
    "assert_equal(calculate_compound_interest_rounded(2000, 3, 5), 2318.55)\n",
    "assert_equal(calculate_compound_interest_rounded(2000, 3, 6), 2388.10)\n",
    "\n",
    "### BEGIN HIDDEN TESTS\n",
    "assert_raises(Exception, calculate_compound_interest_rounded, 1, -1, -1)\n",
    "assert_raises(Exception, calculate_compound_interest_rounded, -1, 10, -1)\n",
    "assert_equal(calculate_compound_interest_rounded(0, 10, 1), 0.0)\n",
    "assert_raises(Exception, calculate_compound_interest_rounded, 0, 10, -1)\n",
    "assert_equal(calculate_compound_interest_rounded(2000, 9, 100), 11058081.58)\n",
    "assert_equal(calculate_compound_interest_rounded(10000, -1, 10), 9043.82)\n",
    "assert_equal(calculate_compound_interest_rounded(20000, 3, 1), 20600.0)\n",
    "### END HIDDEN TESTS"
   ]
  },
  {
   "cell_type": "code",
   "execution_count": null,
   "id": "arabic-giving",
   "metadata": {},
   "outputs": [],
   "source": []
  }
 ],
 "metadata": {
  "celltoolbar": "Create Assignment",
  "kernelspec": {
   "display_name": "Python 3",
   "language": "python",
   "name": "python3"
  },
  "language_info": {
   "codemirror_mode": {
    "name": "ipython",
    "version": 3
   },
   "file_extension": ".py",
   "mimetype": "text/x-python",
   "name": "python",
   "nbconvert_exporter": "python",
   "pygments_lexer": "ipython3",
   "version": "3.7.3"
  }
 },
 "nbformat": 4,
 "nbformat_minor": 5
}
