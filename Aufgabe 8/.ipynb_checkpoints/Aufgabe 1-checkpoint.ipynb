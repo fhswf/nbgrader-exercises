{
 "cells": [
  {
   "cell_type": "markdown",
   "id": "remarkable-associate",
   "metadata": {
    "nbgrader": {
     "grade": false,
     "grade_id": "cell-4d226c0565d8b5f5",
     "locked": true,
     "schema_version": 3,
     "solution": false,
     "task": false
    }
   },
   "source": [
    "# Aufgabe 1\n",
    "\n",
    "Vervollständie die folgende Funktion, welche in einer Datei nach Zeilen im Format \"<b>New Revision: %INT%</b>\" mithilfe von <b>RegEx</b> sucht. Der Durchschnitt aller Zahlen soll ausgegeben werden. Nutze die Funktion <b>findall</b>."
   ]
  },
  {
   "cell_type": "code",
   "execution_count": 71,
   "id": "valued-router",
   "metadata": {
    "nbgrader": {
     "grade": false,
     "grade_id": "cell-9f6572451c8ef418",
     "locked": false,
     "schema_version": 3,
     "solution": true,
     "task": false
    }
   },
   "outputs": [
    {
     "ename": "IndentationError",
     "evalue": "expected an indented block (<ipython-input-71-383a10b8b8e0>, line 8)",
     "output_type": "error",
     "traceback": [
      "\u001b[0;36m  File \u001b[0;32m\"<ipython-input-71-383a10b8b8e0>\"\u001b[0;36m, line \u001b[0;32m8\u001b[0m\n\u001b[0;31m    print(calculate_average_from_revisions(\"revisions_test.txt\"))\u001b[0m\n\u001b[0m        ^\u001b[0m\n\u001b[0;31mIndentationError\u001b[0m\u001b[0;31m:\u001b[0m expected an indented block\n"
     ]
    }
   ],
   "source": [
    "import re\n",
    "\n",
    "def calculate_average_from_revisions(datei: str) -> int:\n",
    "    \n",
    "    ### BEGIN SOLUTION\n",
    "    ### END SOLUTION\n",
    "    \n",
    "print(calculate_average_from_revisions(\"revisions_test.txt\"))"
   ]
  },
  {
   "cell_type": "code",
   "execution_count": 69,
   "id": "social-point",
   "metadata": {
    "nbgrader": {
     "grade": true,
     "grade_id": "cell-bd7c42ff7e7e79c6",
     "locked": true,
     "points": 10,
     "schema_version": 3,
     "solution": false,
     "task": false
    }
   },
   "outputs": [],
   "source": [
    "from nose.tools import assert_equal\n",
    "\n",
    "assert_equal(calculate_average_from_revisions(\"revisions_test.txt\"), 16)\n",
    "assert_equal(calculate_average_from_revisions(\"revisions.txt\"), 6008)"
   ]
  }
 ],
 "metadata": {
  "celltoolbar": "Create Assignment",
  "kernelspec": {
   "display_name": "Python 3",
   "language": "python",
   "name": "python3"
  },
  "language_info": {
   "codemirror_mode": {
    "name": "ipython",
    "version": 3
   },
   "file_extension": ".py",
   "mimetype": "text/x-python",
   "name": "python",
   "nbconvert_exporter": "python",
   "pygments_lexer": "ipython3",
   "version": "3.7.3"
  }
 },
 "nbformat": 4,
 "nbformat_minor": 5
}
