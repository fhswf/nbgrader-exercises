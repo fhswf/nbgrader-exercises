{
 "cells": [
  {
   "cell_type": "markdown",
   "id": "binding-scoop",
   "metadata": {
    "nbgrader": {
     "grade": false,
     "grade_id": "cell-3376242a9ff9fef7",
     "locked": true,
     "schema_version": 3,
     "solution": false,
     "task": false
    }
   },
   "source": [
    "# Aufgabe 2\n",
    "\n",
    "Vervollständie die folgende Funktion, welche das Inhaltsverzeichnis des Grundgesetzes von der Seite des Deutschen Bundestages auslesen soll. Dazu soll auf die Seite https://www.bundestag.de/parlament/aufgaben/rechtsgrundlagen/grundgesetz zugegriffen werden und die unten stehende Tabelle in folgendes Format umgewandelt werden:<br>\n",
    "\n",
    "my_dictionary = {<br>\n",
    "    \"Seitennummern\" : \"Titel\",<br>\n",
    "    ...<br>\n",
    "}\n",
    "\n",
    "<b>Info</b>: Es kann sich eine Bibliothek ausgesucht werden, welche verwendet wird."
   ]
  },
  {
   "cell_type": "code",
   "execution_count": 62,
   "id": "congressional-alloy",
   "metadata": {
    "nbgrader": {
     "grade": false,
     "grade_id": "cell-4047cf5f2ead4f96",
     "locked": false,
     "schema_version": 3,
     "solution": true,
     "task": false
    }
   },
   "outputs": [
    {
     "ename": "IndentationError",
     "evalue": "expected an indented block (<ipython-input-62-7c8bebd85a20>, line 10)",
     "output_type": "error",
     "traceback": [
      "\u001b[0;36m  File \u001b[0;32m\"<ipython-input-62-7c8bebd85a20>\"\u001b[0;36m, line \u001b[0;32m10\u001b[0m\n\u001b[0;31m    print(grundgesetz())\u001b[0m\n\u001b[0m        ^\u001b[0m\n\u001b[0;31mIndentationError\u001b[0m\u001b[0;31m:\u001b[0m expected an indented block\n"
     ]
    }
   ],
   "source": [
    "import urllib3\n",
    "import re\n",
    "import pandas as pd\n",
    "\n",
    "def grundgesetz() -> dict:\n",
    "    \n",
    "    ### BEGIN SOLUTION\n",
    "    ### END SOLUTION\n",
    "    \n",
    "print(grundgesetz())"
   ]
  },
  {
   "cell_type": "code",
   "execution_count": 65,
   "id": "falling-conjunction",
   "metadata": {
    "nbgrader": {
     "grade": true,
     "grade_id": "cell-616e70e5b9f44cb6",
     "locked": true,
     "points": 10,
     "schema_version": 3,
     "solution": false,
     "task": false
    }
   },
   "outputs": [],
   "source": [
    "from nose.tools import assert_equal\n",
    "import json\n",
    "\n",
    "def myHash(text: str):\n",
    "    hash=0\n",
    "    for ch in text:\n",
    "        hash = ( hash*281  ^ ord(ch)*997) & 0xFFFFFFFF\n",
    "    \n",
    "    return hex(hash)[2:].upper().zfill(8)\n",
    "\n",
    "assert_equal(myHash(json.dumps(grundgesetz())), '7D877BCB')"
   ]
  }
 ],
 "metadata": {
  "celltoolbar": "Create Assignment",
  "kernelspec": {
   "display_name": "Python 3",
   "language": "python",
   "name": "python3"
  },
  "language_info": {
   "codemirror_mode": {
    "name": "ipython",
    "version": 3
   },
   "file_extension": ".py",
   "mimetype": "text/x-python",
   "name": "python",
   "nbconvert_exporter": "python",
   "pygments_lexer": "ipython3",
   "version": "3.7.3"
  }
 },
 "nbformat": 4,
 "nbformat_minor": 5
}
