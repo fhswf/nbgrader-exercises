{
 "cells": [
  {
   "cell_type": "markdown",
   "id": "meaningful-worry",
   "metadata": {
    "nbgrader": {
     "grade": false,
     "grade_id": "cell-b9add277b34d5aa3",
     "locked": true,
     "schema_version": 3,
     "solution": false,
     "task": false
    }
   },
   "source": [
    "# Aufgabe 4\n",
    "\n",
    "Vervollständige die folgende Funktionen, um Temperaturen zwischen Celsius und Fahrenheit zu konvertiert.<br>\n",
    "Runde das Ergebnis auf 2 Nachkommastellen!"
   ]
  },
  {
   "cell_type": "code",
   "execution_count": null,
   "id": "placed-grenada",
   "metadata": {
    "nbgrader": {
     "grade": false,
     "grade_id": "cell-128e70779f2362a7",
     "locked": false,
     "schema_version": 3,
     "solution": true,
     "task": false
    }
   },
   "outputs": [],
   "source": [
    "def fahrenheit_to_celsius(fahrenheit: float) -> float:\n",
    "    ### BEGIN SOLUTION\n",
    "    ### END SOLUTION\n",
    "    \n",
    "def celsius_to_fahrenheit(celsius: float) -> float:\n",
    "    ### BEGIN SOLUTION\n",
    "    ### END SOLUTION\n",
    "    \n",
    "print(fahrenheit_to_celsius(102))\n",
    "print(celsius_to_fahrenheit(30.3))"
   ]
  },
  {
   "cell_type": "code",
   "execution_count": null,
   "id": "julian-progressive",
   "metadata": {
    "nbgrader": {
     "grade": true,
     "grade_id": "cell-a03c0cfdac04ebdc",
     "locked": true,
     "points": 10,
     "schema_version": 3,
     "solution": false,
     "task": false
    }
   },
   "outputs": [],
   "source": [
    "from nose.tools import assert_equal\n",
    "\n",
    "assert_equal(fahrenheit_to_celsius(98.6), 37)\n",
    "assert_equal(fahrenheit_to_celsius(0), -17.78)\n",
    "assert_equal(fahrenheit_to_celsius(-100), -73.33)\n",
    "assert_equal(fahrenheit_to_celsius(50), 10)\n",
    "assert_equal(fahrenheit_to_celsius(200.41), 93.56)\n",
    "\n",
    "assert_equal(celsius_to_fahrenheit(0), 32)\n",
    "assert_equal(celsius_to_fahrenheit(37), 98.6)\n",
    "assert_equal(celsius_to_fahrenheit(15.6), 60.08)\n",
    "assert_equal(celsius_to_fahrenheit(100), 212)\n",
    "assert_equal(celsius_to_fahrenheit(-10), 14)\n",
    "assert_equal(celsius_to_fahrenheit(-105.8), -158.44)"
   ]
  }
 ],
 "metadata": {
  "celltoolbar": "Create Assignment",
  "kernelspec": {
   "display_name": "Python 3",
   "language": "python",
   "name": "python3"
  },
  "language_info": {
   "codemirror_mode": {
    "name": "ipython",
    "version": 3
   },
   "file_extension": ".py",
   "mimetype": "text/x-python",
   "name": "python",
   "nbconvert_exporter": "python",
   "pygments_lexer": "ipython3",
   "version": "3.7.3"
  }
 },
 "nbformat": 4,
 "nbformat_minor": 5
}
