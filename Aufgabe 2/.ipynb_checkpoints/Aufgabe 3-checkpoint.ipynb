{
 "cells": [
  {
   "cell_type": "markdown",
   "id": "solar-kingdom",
   "metadata": {
    "nbgrader": {
     "grade": false,
     "grade_id": "cell-e8e1848bbbfd8d36",
     "locked": true,
     "schema_version": 3,
     "solution": false,
     "task": false
    }
   },
   "source": [
    "# Aufgabe 3\n",
    "\n",
    "Vervollständige die folgende Funktion, um den Bruttolohn zu berechnen. Gib einen <b>ValueError</b> aus, wenn ein eingegebener Wert nicht passt."
   ]
  },
  {
   "cell_type": "code",
   "execution_count": 2,
   "id": "southwest-personal",
   "metadata": {
    "nbgrader": {
     "grade": false,
     "grade_id": "cell-f21943c9a9dd0be9",
     "locked": false,
     "schema_version": 3,
     "solution": true,
     "task": false
    }
   },
   "outputs": [
    {
     "ename": "IndentationError",
     "evalue": "expected an indented block (<ipython-input-2-8500beef3772>, line 5)",
     "output_type": "error",
     "traceback": [
      "\u001b[0;36m  File \u001b[0;32m\"<ipython-input-2-8500beef3772>\"\u001b[0;36m, line \u001b[0;32m5\u001b[0m\n\u001b[0;31m    print(calculate_gross(10, 10))\u001b[0m\n\u001b[0m        ^\u001b[0m\n\u001b[0;31mIndentationError\u001b[0m\u001b[0;31m:\u001b[0m expected an indented block\n"
     ]
    }
   ],
   "source": [
    "def calculate_gross(arbeitsstunden: float, stundensatz: float) -> float:\n",
    "    ### BEGIN SOLUTION\n",
    "    ### END SOLUTION\n",
    "    \n",
    "print(calculate_gross(10, 10))"
   ]
  },
  {
   "cell_type": "code",
   "execution_count": null,
   "id": "structural-course",
   "metadata": {
    "nbgrader": {
     "grade": true,
     "grade_id": "cell-f95d52d817168931",
     "locked": true,
     "points": 10,
     "schema_version": 3,
     "solution": false,
     "task": false
    }
   },
   "outputs": [],
   "source": [
    "from nose.tools import assert_equal, assert_raises\n",
    "\n",
    "assert_equal(calculate_gross(35, 2.75), 96.25)\n",
    "assert_equal(calculate_gross(40, 11.90), 476)\n",
    "assert_equal(calculate_gross(200, 22.45), 4490)\n",
    "assert_equal(calculate_gross(201, 22.01), 4424.01)\n",
    "assert_equal(calculate_gross(0, 12.66), 0)\n",
    "assert_raises(ValueError, calculate_gross, -1, 12.66)\n",
    "assert_raises(ValueError, calculate_gross, 0, -12.66)\n",
    "assert_raises(ValueError, calculate_gross, -10, -12.66)"
   ]
  }
 ],
 "metadata": {
  "celltoolbar": "Create Assignment",
  "kernelspec": {
   "display_name": "Python 3",
   "language": "python",
   "name": "python3"
  },
  "language_info": {
   "codemirror_mode": {
    "name": "ipython",
    "version": 3
   },
   "file_extension": ".py",
   "mimetype": "text/x-python",
   "name": "python",
   "nbconvert_exporter": "python",
   "pygments_lexer": "ipython3",
   "version": "3.7.3"
  }
 },
 "nbformat": 4,
 "nbformat_minor": 5
}
