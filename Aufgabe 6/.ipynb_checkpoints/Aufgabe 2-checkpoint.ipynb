{
 "cells": [
  {
   "cell_type": "markdown",
   "id": "victorian-handling",
   "metadata": {
    "nbgrader": {
     "grade": false,
     "grade_id": "cell-a56bc8a84af5e7c3",
     "locked": true,
     "schema_version": 3,
     "solution": false,
     "task": false
    }
   },
   "source": [
    "# Aufgabe 2\n",
    "\n",
    "Vervollständige die folgende Funktion, welche aus E-Mails den Wochentag herausfiltert und die Anzahl der jeweiligen Wochentage als Dictionary ausgibt.\n",
    "Die Datei ist in folgendem Format geschrieben:\n",
    "~~~~\n",
    "From max.mustermann@fh-swf.de Sat Jan 5 09:14:16 2019\n",
    "Message\n",
    "Hallo,\n",
    "\n",
    "das ist meine super E-Mail.\n",
    "From susanne.mustermann@fh-swf.de Sun Jan 6 16:31:02 2019\n",
    "Message\n",
    "Danke für die E-Mail!\n",
    "~~~~\n",
    "\n",
    "Beispiel Ausgabe: <b>{'Mon': 0, 'Tue': 0, 'Wen': 0, 'Thu': 0, 'Fri': 0, 'Sat': 1, 'Sun': 1}</b>\n",
    "<br>Der Wochentag steht immer in der Zeile, welche mit <b>'From '</b> beginnt."
   ]
  },
  {
   "cell_type": "code",
   "execution_count": 11,
   "id": "brief-chrome",
   "metadata": {
    "nbgrader": {
     "grade": false,
     "grade_id": "cell-84563f200384f37e",
     "locked": false,
     "schema_version": 3,
     "solution": true,
     "task": false
    }
   },
   "outputs": [
    {
     "name": "stdout",
     "output_type": "stream",
     "text": [
      "{'Mon': 0, 'Tue': 0, 'Wed': 0, 'Thu': 0, 'Fri': 0, 'Sat': 0, 'Sun': 0}\n"
     ]
    }
   ],
   "source": [
    "def count_weekdays(datei: str) -> dict:\n",
    "    weekday_count = {\n",
    "        'Mon': 0,\n",
    "        'Tue': 0,\n",
    "        'Wed': 0,\n",
    "        'Thu': 0,\n",
    "        'Fri': 0,\n",
    "        'Sat': 0,\n",
    "        'Sun': 0\n",
    "    }\n",
    "    \n",
    "    ### BEGIN SOLUTION\n",
    "    ### END SOLUTION\n",
    "    \n",
    "    return weekday_count\n",
    "\n",
    "print(count_weekdays(\"email_test.txt\"))"
   ]
  },
  {
   "cell_type": "code",
   "execution_count": 12,
   "id": "proper-energy",
   "metadata": {
    "nbgrader": {
     "grade": true,
     "grade_id": "cell-9b9067d2bce228e3",
     "locked": true,
     "points": 10,
     "schema_version": 3,
     "solution": false,
     "task": false
    }
   },
   "outputs": [
    {
     "ename": "AssertionError",
     "evalue": "{'Mon': 0, 'Tue': 0, 'Wed': 0, 'Thu': 0, 'Fri': 0, 'Sat': 0, 'Sun': 0} != {'Mon': 0, 'Tue': 0, 'Wed': 0, 'Thu': 0, 'Fri': 0, 'Sat': 1, 'Sun': 1}\n- {'Fri': 0, 'Mon': 0, 'Sat': 0, 'Sun': 0, 'Thu': 0, 'Tue': 0, 'Wed': 0}\n?                             ^         ^\n\n+ {'Fri': 0, 'Mon': 0, 'Sat': 1, 'Sun': 1, 'Thu': 0, 'Tue': 0, 'Wed': 0}\n?                             ^         ^\n",
     "output_type": "error",
     "traceback": [
      "\u001b[0;31m---------------------------------------------------------------------------\u001b[0m",
      "\u001b[0;31mAssertionError\u001b[0m                            Traceback (most recent call last)",
      "\u001b[0;32m<ipython-input-12-2d41085a4a1c>\u001b[0m in \u001b[0;36m<module>\u001b[0;34m\u001b[0m\n\u001b[1;32m      4\u001b[0m \u001b[0manswer_mails\u001b[0m \u001b[0;34m=\u001b[0m \u001b[0;34m{\u001b[0m\u001b[0;34m'Mon'\u001b[0m\u001b[0;34m:\u001b[0m \u001b[0;36m1423\u001b[0m\u001b[0;34m,\u001b[0m \u001b[0;34m'Tue'\u001b[0m\u001b[0;34m:\u001b[0m \u001b[0;36m1515\u001b[0m\u001b[0;34m,\u001b[0m \u001b[0;34m'Wed'\u001b[0m\u001b[0;34m:\u001b[0m \u001b[0;36m1395\u001b[0m\u001b[0;34m,\u001b[0m \u001b[0;34m'Thu'\u001b[0m\u001b[0;34m:\u001b[0m \u001b[0;36m1429\u001b[0m\u001b[0;34m,\u001b[0m \u001b[0;34m'Fri'\u001b[0m\u001b[0;34m:\u001b[0m \u001b[0;36m1425\u001b[0m\u001b[0;34m,\u001b[0m \u001b[0;34m'Sat'\u001b[0m\u001b[0;34m:\u001b[0m \u001b[0;36m1399\u001b[0m\u001b[0;34m,\u001b[0m \u001b[0;34m'Sun'\u001b[0m\u001b[0;34m:\u001b[0m \u001b[0;36m1414\u001b[0m\u001b[0;34m}\u001b[0m\u001b[0;34m\u001b[0m\u001b[0;34m\u001b[0m\u001b[0m\n\u001b[1;32m      5\u001b[0m \u001b[0;34m\u001b[0m\u001b[0m\n\u001b[0;32m----> 6\u001b[0;31m \u001b[0massert_equal\u001b[0m\u001b[0;34m(\u001b[0m\u001b[0mcount_weekdays\u001b[0m\u001b[0;34m(\u001b[0m\u001b[0;34m\"email_test.txt\"\u001b[0m\u001b[0;34m)\u001b[0m\u001b[0;34m,\u001b[0m \u001b[0manswer_test\u001b[0m\u001b[0;34m)\u001b[0m\u001b[0;34m\u001b[0m\u001b[0;34m\u001b[0m\u001b[0m\n\u001b[0m\u001b[1;32m      7\u001b[0m \u001b[0massert_equal\u001b[0m\u001b[0;34m(\u001b[0m\u001b[0mcount_weekdays\u001b[0m\u001b[0;34m(\u001b[0m\u001b[0;34m\"emails.txt\"\u001b[0m\u001b[0;34m)\u001b[0m\u001b[0;34m,\u001b[0m \u001b[0manswer_mails\u001b[0m\u001b[0;34m)\u001b[0m\u001b[0;34m\u001b[0m\u001b[0;34m\u001b[0m\u001b[0m\n",
      "\u001b[0;32m/opt/tljh/user/lib/python3.7/unittest/case.py\u001b[0m in \u001b[0;36massertEqual\u001b[0;34m(self, first, second, msg)\u001b[0m\n\u001b[1;32m    837\u001b[0m         \"\"\"\n\u001b[1;32m    838\u001b[0m         \u001b[0massertion_func\u001b[0m \u001b[0;34m=\u001b[0m \u001b[0mself\u001b[0m\u001b[0;34m.\u001b[0m\u001b[0m_getAssertEqualityFunc\u001b[0m\u001b[0;34m(\u001b[0m\u001b[0mfirst\u001b[0m\u001b[0;34m,\u001b[0m \u001b[0msecond\u001b[0m\u001b[0;34m)\u001b[0m\u001b[0;34m\u001b[0m\u001b[0;34m\u001b[0m\u001b[0m\n\u001b[0;32m--> 839\u001b[0;31m         \u001b[0massertion_func\u001b[0m\u001b[0;34m(\u001b[0m\u001b[0mfirst\u001b[0m\u001b[0;34m,\u001b[0m \u001b[0msecond\u001b[0m\u001b[0;34m,\u001b[0m \u001b[0mmsg\u001b[0m\u001b[0;34m=\u001b[0m\u001b[0mmsg\u001b[0m\u001b[0;34m)\u001b[0m\u001b[0;34m\u001b[0m\u001b[0;34m\u001b[0m\u001b[0m\n\u001b[0m\u001b[1;32m    840\u001b[0m \u001b[0;34m\u001b[0m\u001b[0m\n\u001b[1;32m    841\u001b[0m     \u001b[0;32mdef\u001b[0m \u001b[0massertNotEqual\u001b[0m\u001b[0;34m(\u001b[0m\u001b[0mself\u001b[0m\u001b[0;34m,\u001b[0m \u001b[0mfirst\u001b[0m\u001b[0;34m,\u001b[0m \u001b[0msecond\u001b[0m\u001b[0;34m,\u001b[0m \u001b[0mmsg\u001b[0m\u001b[0;34m=\u001b[0m\u001b[0;32mNone\u001b[0m\u001b[0;34m)\u001b[0m\u001b[0;34m:\u001b[0m\u001b[0;34m\u001b[0m\u001b[0;34m\u001b[0m\u001b[0m\n",
      "\u001b[0;32m/opt/tljh/user/lib/python3.7/unittest/case.py\u001b[0m in \u001b[0;36massertDictEqual\u001b[0;34m(self, d1, d2, msg)\u001b[0m\n\u001b[1;32m   1136\u001b[0m                            pprint.pformat(d2).splitlines())))\n\u001b[1;32m   1137\u001b[0m             \u001b[0mstandardMsg\u001b[0m \u001b[0;34m=\u001b[0m \u001b[0mself\u001b[0m\u001b[0;34m.\u001b[0m\u001b[0m_truncateMessage\u001b[0m\u001b[0;34m(\u001b[0m\u001b[0mstandardMsg\u001b[0m\u001b[0;34m,\u001b[0m \u001b[0mdiff\u001b[0m\u001b[0;34m)\u001b[0m\u001b[0;34m\u001b[0m\u001b[0;34m\u001b[0m\u001b[0m\n\u001b[0;32m-> 1138\u001b[0;31m             \u001b[0mself\u001b[0m\u001b[0;34m.\u001b[0m\u001b[0mfail\u001b[0m\u001b[0;34m(\u001b[0m\u001b[0mself\u001b[0m\u001b[0;34m.\u001b[0m\u001b[0m_formatMessage\u001b[0m\u001b[0;34m(\u001b[0m\u001b[0mmsg\u001b[0m\u001b[0;34m,\u001b[0m \u001b[0mstandardMsg\u001b[0m\u001b[0;34m)\u001b[0m\u001b[0;34m)\u001b[0m\u001b[0;34m\u001b[0m\u001b[0;34m\u001b[0m\u001b[0m\n\u001b[0m\u001b[1;32m   1139\u001b[0m \u001b[0;34m\u001b[0m\u001b[0m\n\u001b[1;32m   1140\u001b[0m     \u001b[0;32mdef\u001b[0m \u001b[0massertDictContainsSubset\u001b[0m\u001b[0;34m(\u001b[0m\u001b[0mself\u001b[0m\u001b[0;34m,\u001b[0m \u001b[0msubset\u001b[0m\u001b[0;34m,\u001b[0m \u001b[0mdictionary\u001b[0m\u001b[0;34m,\u001b[0m \u001b[0mmsg\u001b[0m\u001b[0;34m=\u001b[0m\u001b[0;32mNone\u001b[0m\u001b[0;34m)\u001b[0m\u001b[0;34m:\u001b[0m\u001b[0;34m\u001b[0m\u001b[0;34m\u001b[0m\u001b[0m\n",
      "\u001b[0;32m/opt/tljh/user/lib/python3.7/unittest/case.py\u001b[0m in \u001b[0;36mfail\u001b[0;34m(self, msg)\u001b[0m\n\u001b[1;32m    678\u001b[0m     \u001b[0;32mdef\u001b[0m \u001b[0mfail\u001b[0m\u001b[0;34m(\u001b[0m\u001b[0mself\u001b[0m\u001b[0;34m,\u001b[0m \u001b[0mmsg\u001b[0m\u001b[0;34m=\u001b[0m\u001b[0;32mNone\u001b[0m\u001b[0;34m)\u001b[0m\u001b[0;34m:\u001b[0m\u001b[0;34m\u001b[0m\u001b[0;34m\u001b[0m\u001b[0m\n\u001b[1;32m    679\u001b[0m         \u001b[0;34m\"\"\"Fail immediately, with the given message.\"\"\"\u001b[0m\u001b[0;34m\u001b[0m\u001b[0;34m\u001b[0m\u001b[0m\n\u001b[0;32m--> 680\u001b[0;31m         \u001b[0;32mraise\u001b[0m \u001b[0mself\u001b[0m\u001b[0;34m.\u001b[0m\u001b[0mfailureException\u001b[0m\u001b[0;34m(\u001b[0m\u001b[0mmsg\u001b[0m\u001b[0;34m)\u001b[0m\u001b[0;34m\u001b[0m\u001b[0;34m\u001b[0m\u001b[0m\n\u001b[0m\u001b[1;32m    681\u001b[0m \u001b[0;34m\u001b[0m\u001b[0m\n\u001b[1;32m    682\u001b[0m     \u001b[0;32mdef\u001b[0m \u001b[0massertFalse\u001b[0m\u001b[0;34m(\u001b[0m\u001b[0mself\u001b[0m\u001b[0;34m,\u001b[0m \u001b[0mexpr\u001b[0m\u001b[0;34m,\u001b[0m \u001b[0mmsg\u001b[0m\u001b[0;34m=\u001b[0m\u001b[0;32mNone\u001b[0m\u001b[0;34m)\u001b[0m\u001b[0;34m:\u001b[0m\u001b[0;34m\u001b[0m\u001b[0;34m\u001b[0m\u001b[0m\n",
      "\u001b[0;31mAssertionError\u001b[0m: {'Mon': 0, 'Tue': 0, 'Wed': 0, 'Thu': 0, 'Fri': 0, 'Sat': 0, 'Sun': 0} != {'Mon': 0, 'Tue': 0, 'Wed': 0, 'Thu': 0, 'Fri': 0, 'Sat': 1, 'Sun': 1}\n- {'Fri': 0, 'Mon': 0, 'Sat': 0, 'Sun': 0, 'Thu': 0, 'Tue': 0, 'Wed': 0}\n?                             ^         ^\n\n+ {'Fri': 0, 'Mon': 0, 'Sat': 1, 'Sun': 1, 'Thu': 0, 'Tue': 0, 'Wed': 0}\n?                             ^         ^\n"
     ]
    }
   ],
   "source": [
    "from nose.tools import assert_equal\n",
    "\n",
    "answer_test = {'Mon': 0, 'Tue': 0, 'Wed': 0, 'Thu': 0, 'Fri': 0, 'Sat': 1, 'Sun': 1}\n",
    "answer_mails = {'Mon': 1423, 'Tue': 1515, 'Wed': 1395, 'Thu': 1429, 'Fri': 1425, 'Sat': 1399, 'Sun': 1414}\n",
    "\n",
    "assert_equal(count_weekdays(\"email_test.txt\"), answer_test)\n",
    "assert_equal(count_weekdays(\"emails.txt\"), answer_mails)"
   ]
  },
  {
   "cell_type": "markdown",
   "id": "political-munich",
   "metadata": {
    "nbgrader": {
     "grade": false,
     "grade_id": "cell-eb9e6eaab60b09c5",
     "locked": true,
     "schema_version": 3,
     "solution": false,
     "task": false
    }
   },
   "source": [
    "# Aufgabe 3\n",
    "\n",
    "Vervollständie die folgende Funktion, welche den Wochentag mit den meisten Vorkommen aufweist.\n",
    "\n",
    "Die Datei ist in folgendem Format geschrieben:\n",
    "\n",
    "~~~~\n",
    "From max.mustermann@fh-swf.de Sat Jan 5 09:14:16 2019\n",
    "Message\n",
    "Hallo,\n",
    "\n",
    "das ist meine super E-Mail.\n",
    "From susanne.mustermann@fh-swf.de Sun Jan 6 16:31:02 2019\n",
    "Message\n",
    "Danke für die E-Mail!\n",
    "~~~~\n",
    "\n",
    "Beispiel Ausgabe: 'Sun'\n",
    "\n",
    "Im Fall mehrerer gleicher Aufkommen, wird der letzte Wochentag mit dieser Anzahl ausgegeben.\n",
    "<br>Der Wochentag steht immer in der Zeile, welche mit <b>'From '</b> beginnt."
   ]
  },
  {
   "cell_type": "code",
   "execution_count": null,
   "id": "dirty-office",
   "metadata": {
    "nbgrader": {
     "grade": false,
     "grade_id": "cell-ee26b4f8bfc9932b",
     "locked": false,
     "schema_version": 3,
     "solution": true,
     "task": false
    }
   },
   "outputs": [],
   "source": [
    "def max_weekday(datei: str) -> str:\n",
    "    \n",
    "    ### BEGIN SOLUTION\n",
    "    ### END SOLUTION\n",
    "    \n",
    "    \n",
    "print(max_weekday(\"email_test.txt\"))"
   ]
  },
  {
   "cell_type": "code",
   "execution_count": null,
   "id": "oriented-fundamentals",
   "metadata": {
    "nbgrader": {
     "grade": true,
     "grade_id": "cell-37598bf0eb9f9717",
     "locked": true,
     "points": 10,
     "schema_version": 3,
     "solution": false,
     "task": false
    }
   },
   "outputs": [],
   "source": [
    "from nose.tools import assert_equal\n",
    "\n",
    "assert_equal(max_weekday(\"email_test.txt\"), 'Sun')\n",
    "assert_equal(max_weekday(\"emails.txt\"), 'Tue')"
   ]
  }
 ],
 "metadata": {
  "celltoolbar": "Create Assignment",
  "kernelspec": {
   "display_name": "Python 3",
   "language": "python",
   "name": "python3"
  },
  "language_info": {
   "codemirror_mode": {
    "name": "ipython",
    "version": 3
   },
   "file_extension": ".py",
   "mimetype": "text/x-python",
   "name": "python",
   "nbconvert_exporter": "python",
   "pygments_lexer": "ipython3",
   "version": "3.7.3"
  }
 },
 "nbformat": 4,
 "nbformat_minor": 5
}
