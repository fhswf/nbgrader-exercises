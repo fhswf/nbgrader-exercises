{
 "cells": [
  {
   "cell_type": "markdown",
   "id": "happy-extreme",
   "metadata": {
    "nbgrader": {
     "grade": false,
     "grade_id": "cell-fa4d79551c8c830c",
     "locked": true,
     "schema_version": 3,
     "solution": false,
     "task": false
    }
   },
   "source": [
    "# Aufgabe 3\n",
    "\n",
    "Vervollständie die folgende Funktion, welche eine Datei einließt und den Inhalt zeilenweise in Großbuchstaben als Array zurückgibt. Achte darauf, dass leere Zeilen nicht übernommen werden sollen."
   ]
  },
  {
   "cell_type": "code",
   "execution_count": 2,
   "id": "complete-annex",
   "metadata": {
    "nbgrader": {
     "grade": false,
     "grade_id": "cell-584efe4d9cab9374",
     "locked": false,
     "schema_version": 3,
     "solution": true,
     "task": false
    }
   },
   "outputs": [
    {
     "name": "stdout",
     "output_type": "stream",
     "text": [
      "['AUTO', 'BAUM', 'KATZE', 'HAUS']\n"
     ]
    }
   ],
   "source": [
    "def get_words(datei: str) -> list:\n",
    "    liste = []\n",
    "                \n",
    "    ### BEGIN SOLUTION\n",
    "    ### END SOLUTION\n",
    "        \n",
    "    return liste\n",
    "            \n",
    "print(get_words('testfile.txt'))"
   ]
  },
  {
   "cell_type": "code",
   "execution_count": 3,
   "id": "honey-graduation",
   "metadata": {
    "nbgrader": {
     "grade": true,
     "grade_id": "cell-4e4e63be2c09ea8e",
     "locked": true,
     "points": 10,
     "schema_version": 3,
     "solution": false,
     "task": false
    }
   },
   "outputs": [],
   "source": [
    "from nose.tools import assert_equal\n",
    "import json\n",
    "\n",
    "def myHash(text: str):\n",
    "    hash=0\n",
    "    for ch in text:\n",
    "        hash = ( hash*281  ^ ord(ch)*997) & 0xFFFFFFFF\n",
    "    \n",
    "    return hex(hash)[2:].upper().zfill(8)\n",
    "\n",
    "assert_equal(myHash(json.dumps(get_words('testfile.txt'))), '633C5C28')\n",
    "assert_equal(myHash(json.dumps(get_words('german_words.txt'))), '1DF06A3E')"
   ]
  }
 ],
 "metadata": {
  "celltoolbar": "Create Assignment",
  "kernelspec": {
   "display_name": "Python 3",
   "language": "python",
   "name": "python3"
  },
  "language_info": {
   "codemirror_mode": {
    "name": "ipython",
    "version": 3
   },
   "file_extension": ".py",
   "mimetype": "text/x-python",
   "name": "python",
   "nbconvert_exporter": "python",
   "pygments_lexer": "ipython3",
   "version": "3.7.3"
  }
 },
 "nbformat": 4,
 "nbformat_minor": 5
}
