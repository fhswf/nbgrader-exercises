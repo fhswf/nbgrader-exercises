{
 "cells": [
  {
   "cell_type": "markdown",
   "id": "dated-science",
   "metadata": {
    "nbgrader": {
     "grade": false,
     "grade_id": "cell-536f6ef13d9734af",
     "locked": true,
     "schema_version": 3,
     "solution": false,
     "task": false
    }
   },
   "source": [
    "# Aufgabe 2\n",
    "\n",
    "Vervollständie die folgende Funktion, welche eine Zeichenkette nimmt und die Float Zahl herausfiltert. Die Zeichenkette hat folgendes Format:\n",
    "~~~~\n",
    "'X-DSPAM-Confidence: 0.8475'\n",
    "~~~~\n",
    "\n",
    "Gib die Zahl auf 3 Nachkommastellen gerundet als Float zurück. Es kann davon ausgegangen werden, dass jeder String ein ':' enthält."
   ]
  },
  {
   "cell_type": "code",
   "execution_count": 31,
   "id": "indirect-offense",
   "metadata": {
    "nbgrader": {
     "grade": false,
     "grade_id": "cell-a22355d59a87e3fa",
     "locked": false,
     "schema_version": 3,
     "solution": true,
     "task": false
    }
   },
   "outputs": [
    {
     "ename": "IndentationError",
     "evalue": "expected an indented block (<ipython-input-31-f8061fb3e0fd>, line 5)",
     "output_type": "error",
     "traceback": [
      "\u001b[0;36m  File \u001b[0;32m\"<ipython-input-31-f8061fb3e0fd>\"\u001b[0;36m, line \u001b[0;32m5\u001b[0m\n\u001b[0;31m    print(split_float_from_string('X-DSPAM-Confidence: 0.8475'))\u001b[0m\n\u001b[0m        ^\u001b[0m\n\u001b[0;31mIndentationError\u001b[0m\u001b[0;31m:\u001b[0m expected an indented block\n"
     ]
    }
   ],
   "source": [
    "def split_float_from_string(word: str) -> float:\n",
    "    ### BEGIN SOLUTION\n",
    "    ### END SOLUTION\n",
    "\n",
    "print(split_float_from_string('X-DSPAM-Confidence: 0.8475'))"
   ]
  },
  {
   "cell_type": "code",
   "execution_count": 30,
   "id": "significant-capacity",
   "metadata": {
    "nbgrader": {
     "grade": true,
     "grade_id": "cell-f3a8d268783d515c",
     "locked": true,
     "points": 10,
     "schema_version": 3,
     "solution": false,
     "task": false
    }
   },
   "outputs": [],
   "source": [
    "from nose.tools import assert_equal\n",
    "\n",
    "\n",
    "assert_equal(split_float_from_string('y: -98'), -98)\n",
    "assert isinstance(split_float_from_string('y: -98'), float)\n",
    "assert_equal(split_float_from_string('X-DSPAM-Confidence: 0.8475'), 0.848)\n",
    "assert_equal(split_float_from_string('MY_VALUE : 12.95782'), 12.958)\n",
    "assert_equal(split_float_from_string('   wert:  93.18385'), 93.184)\n",
    "assert_equal(split_float_from_string(' x : 113.4555666'), 113.456)\n",
    "assert_equal(split_float_from_string(' my value :1.9485'), 1.948)"
   ]
  }
 ],
 "metadata": {
  "celltoolbar": "Create Assignment",
  "kernelspec": {
   "display_name": "Python 3",
   "language": "python",
   "name": "python3"
  },
  "language_info": {
   "codemirror_mode": {
    "name": "ipython",
    "version": 3
   },
   "file_extension": ".py",
   "mimetype": "text/x-python",
   "name": "python",
   "nbconvert_exporter": "python",
   "pygments_lexer": "ipython3",
   "version": "3.7.3"
  }
 },
 "nbformat": 4,
 "nbformat_minor": 5
}
