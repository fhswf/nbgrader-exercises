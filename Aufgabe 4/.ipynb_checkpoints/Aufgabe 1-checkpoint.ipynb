{
 "cells": [
  {
   "cell_type": "markdown",
   "id": "patent-charleston",
   "metadata": {
    "nbgrader": {
     "grade": false,
     "grade_id": "cell-9198322a147ad734",
     "locked": true,
     "schema_version": 3,
     "solution": false,
     "task": false
    }
   },
   "source": [
    "# Aufgabe 1\n",
    "\n",
    "Vervollständige die folgende Funktion, welche zählt, wie oft der Buchstabe 'a' / 'A' in einer Zeichenkette vorkommt."
   ]
  },
  {
   "cell_type": "code",
   "execution_count": 6,
   "id": "muslim-album",
   "metadata": {
    "nbgrader": {
     "grade": false,
     "grade_id": "cell-e84f127685ce3118",
     "locked": false,
     "schema_version": 3,
     "solution": true,
     "task": false
    }
   },
   "outputs": [
    {
     "name": "stdout",
     "output_type": "stream",
     "text": [
      "2\n"
     ]
    }
   ],
   "source": [
    "def count_a(word: str) -> int:\n",
    "    ### BEGIN SOLUTION\n",
    "    ### END SOLUTION\n",
    "\n",
    "print(count_a('Banane'))"
   ]
  },
  {
   "cell_type": "code",
   "execution_count": 8,
   "id": "imported-pharmacy",
   "metadata": {
    "nbgrader": {
     "grade": true,
     "grade_id": "cell-902291aba79c03db",
     "locked": true,
     "points": 10,
     "schema_version": 3,
     "solution": false,
     "task": false
    }
   },
   "outputs": [],
   "source": [
    "from nose.tools import assert_equal\n",
    "\n",
    "assert_equal(count_a('Banane'), 2)\n",
    "assert_equal(count_a('Apfel'), 1)\n",
    "assert_equal(count_a('Katze'), 1)\n",
    "assert_equal(count_a('Rindfleischetikettierungsüberwachungsaufgabenübertragungsgesetz'), 4)\n",
    "assert_equal(count_a('Lehrerin'), 0)\n",
    "assert_equal(count_a('Stahlbad'), 2)\n",
    "assert_equal(count_a('Stichprobe'), 0)\n",
    "assert_equal(count_a('Anna'), 2)"
   ]
  },
  {
   "cell_type": "code",
   "execution_count": null,
   "id": "relative-newark",
   "metadata": {},
   "outputs": [],
   "source": []
  }
 ],
 "metadata": {
  "celltoolbar": "Create Assignment",
  "kernelspec": {
   "display_name": "Python 3",
   "language": "python",
   "name": "python3"
  },
  "language_info": {
   "codemirror_mode": {
    "name": "ipython",
    "version": 3
   },
   "file_extension": ".py",
   "mimetype": "text/x-python",
   "name": "python",
   "nbconvert_exporter": "python",
   "pygments_lexer": "ipython3",
   "version": "3.7.3"
  }
 },
 "nbformat": 4,
 "nbformat_minor": 5
}
