{
 "cells": [
  {
   "cell_type": "markdown",
   "id": "bright-arbitration",
   "metadata": {
    "nbgrader": {
     "grade": false,
     "grade_id": "cell-fa4d79551c8c830c",
     "locked": true,
     "schema_version": 3,
     "solution": false,
     "task": false
    }
   },
   "source": [
    "# Aufgabe 3\n",
    "\n",
    "Vervollständie die folgende Funktion, welche eine Datei einließt und den Inhalt zeilenweise in Großbuchstaben als Array zurückgibt."
   ]
  },
  {
   "cell_type": "code",
   "execution_count": 27,
   "id": "appointed-township",
   "metadata": {
    "nbgrader": {
     "grade": false,
     "grade_id": "cell-584efe4d9cab9374",
     "locked": false,
     "schema_version": 3,
     "solution": true,
     "task": false
    }
   },
   "outputs": [
    {
     "name": "stdout",
     "output_type": "stream",
     "text": [
      "['AUTO', 'BAUM', 'KATZE', 'HAUS']\n"
     ]
    }
   ],
   "source": [
    "def get_words(datei: str) -> list:\n",
    "    liste = []\n",
    "                \n",
    "    ### BEGIN SOLUTION\n",
    "    ### END SOLUTION\n",
    "        \n",
    "    return liste\n",
    "            \n",
    "print(get_words('testfile.txt'))"
   ]
  },
  {
   "cell_type": "code",
   "execution_count": 28,
   "id": "robust-approval",
   "metadata": {
    "nbgrader": {
     "grade": true,
     "grade_id": "cell-4e4e63be2c09ea8e",
     "locked": true,
     "points": 10,
     "schema_version": 3,
     "solution": false,
     "task": false
    }
   },
   "outputs": [],
   "source": [
    "from nose.tools import assert_equal\n",
    "\n",
    "assert_equal(hash(frozenset(get_words('german_words.txt'))), 4054237779725047653)"
   ]
  },
  {
   "cell_type": "code",
   "execution_count": null,
   "id": "potential-moral",
   "metadata": {},
   "outputs": [],
   "source": []
  }
 ],
 "metadata": {
  "celltoolbar": "Create Assignment",
  "kernelspec": {
   "display_name": "Python 3",
   "language": "python",
   "name": "python3"
  },
  "language_info": {
   "codemirror_mode": {
    "name": "ipython",
    "version": 3
   },
   "file_extension": ".py",
   "mimetype": "text/x-python",
   "name": "python",
   "nbconvert_exporter": "python",
   "pygments_lexer": "ipython3",
   "version": "3.7.3"
  }
 },
 "nbformat": 4,
 "nbformat_minor": 5
}
