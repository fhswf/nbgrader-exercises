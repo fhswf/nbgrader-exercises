{
 "cells": [
  {
   "cell_type": "markdown",
   "id": "simple-learning",
   "metadata": {
    "nbgrader": {
     "grade": false,
     "grade_id": "cell-e52a38b10a9d1978",
     "locked": true,
     "schema_version": 3,
     "solution": false,
     "task": false
    }
   },
   "source": [
    "# Aufgabe 3\n",
    "\n",
    "Vervollständige die folgende Funktion, welche die Summe, den Durchschnitt und die Anzahl berechnet. Iteriere dafür durch die als Parameter gegebene Liste.<br>\n",
    "Runde das Ergebnis des durchschnitts auf 2 Nachkommastellen.<br>\n",
    "Gib einen <b>ValueError</b> aus, wenn durch 0 geteilt wird."
   ]
  },
  {
   "cell_type": "code",
   "execution_count": 27,
   "id": "conservative-fantasy",
   "metadata": {
    "nbgrader": {
     "grade": false,
     "grade_id": "cell-21a6efa7f49bf5d7",
     "locked": false,
     "schema_version": 3,
     "solution": true,
     "task": false
    }
   },
   "outputs": [
    {
     "name": "stdout",
     "output_type": "stream",
     "text": [
      "[10, 2, 5.0]\n"
     ]
    }
   ],
   "source": [
    "from typing import List\n",
    "\n",
    "def calculate(liste: List[int]) -> list:\n",
    "    summe = 0\n",
    "    anzahl = 0\n",
    "    durchschnitt = 0\n",
    "    \n",
    "    ### BEGIN SOLUTION\n",
    "    ### END SOLUTION\n",
    "                         \n",
    "    return [summe, anzahl, durchschnitt]\n",
    "\n",
    "print(calculate([4, 6]))"
   ]
  },
  {
   "cell_type": "code",
   "execution_count": 32,
   "id": "executed-editor",
   "metadata": {
    "nbgrader": {
     "grade": true,
     "grade_id": "cell-ac600b4726a7358c",
     "locked": true,
     "points": 10,
     "schema_version": 3,
     "solution": false,
     "task": false
    }
   },
   "outputs": [],
   "source": [
    "from nose.tools import assert_equal, assert_raises\n",
    "\n",
    "assert_equal(calculate([4, 5, 7]), [16, 3, 5.33])\n",
    "assert_equal(calculate([4]), [4, 1, 4.0])\n",
    "assert_equal(calculate([10, 40, 10, 20]), [80, 4, 20.0])\n",
    "assert_equal(calculate([1, 1, 1, -1]), [2, 4, 0.5])\n",
    "assert_equal(calculate([0, 4, 0]), [4, 3, 1.33])\n",
    "assert_equal(calculate([1, 5, 2, 8, 90, 1, 3, 201, 592, 480, 103]), [1486, 11, 135.09])\n",
    "assert_equal(calculate([10034, 49148]), [59182, 2, 29591.0])\n",
    "assert_equal(calculate([-1, -1, -1, -1, -1, -1, -1, -1, -1, -1, -1, -1]), [-12, 12, -1.0])\n",
    "assert_equal(calculate([981378, 198374, 103892, 0, 178934958, 0, 0, 187248714, -1928, -139813, 0, 1892, -12894]), [367314573, 13, 28254967.15])\n",
    "\n",
    "assert_raises(ValueError, calculate, [])"
   ]
  },
  {
   "cell_type": "code",
   "execution_count": null,
   "id": "affiliated-blues",
   "metadata": {},
   "outputs": [],
   "source": []
  }
 ],
 "metadata": {
  "celltoolbar": "Create Assignment",
  "kernelspec": {
   "display_name": "Python 3",
   "language": "python",
   "name": "python3"
  },
  "language_info": {
   "codemirror_mode": {
    "name": "ipython",
    "version": 3
   },
   "file_extension": ".py",
   "mimetype": "text/x-python",
   "name": "python",
   "nbconvert_exporter": "python",
   "pygments_lexer": "ipython3",
   "version": "3.7.3"
  }
 },
 "nbformat": 4,
 "nbformat_minor": 5
}
