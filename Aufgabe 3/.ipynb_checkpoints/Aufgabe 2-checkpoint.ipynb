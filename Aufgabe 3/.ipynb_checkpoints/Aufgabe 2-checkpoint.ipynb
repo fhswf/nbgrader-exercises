{
 "cells": [
  {
   "cell_type": "markdown",
   "id": "bulgarian-possession",
   "metadata": {
    "nbgrader": {
     "grade": false,
     "grade_id": "cell-d4cfe253e8acc3af",
     "locked": true,
     "schema_version": 3,
     "solution": false,
     "task": false
    }
   },
   "source": [
    "# Aufgabe 2\n",
    "\n",
    "Vervollständige die folgende Funktion, welche eine Note anhand der unten stehenden Tabelle ausgibt. Wird eine Punktzahl außerhalb des Bereiches zwischen 0.0 und 1.0 als Parameter angegeben, gib einen <b>ValueError</b> aus.\n",
    "\n",
    "~~~~\n",
    "Punkte   Note\n",
    ">= 0.9     1\n",
    ">= 0.8     2\n",
    ">= 0.7     3\n",
    ">= 0.6     4\n",
    " < 0.6     5\n",
    "~~~~"
   ]
  },
  {
   "cell_type": "code",
   "execution_count": null,
   "id": "balanced-project",
   "metadata": {
    "nbgrader": {
     "grade": false,
     "grade_id": "cell-d20ec3de5e99fc80",
     "locked": false,
     "schema_version": 3,
     "solution": true,
     "task": false
    }
   },
   "outputs": [],
   "source": [
    "def calculate_grade(punkte: float) -> int:\n",
    "    ### BEGIN SOLUTION\n",
    "    ### END SOLUTION\n",
    "    \n",
    "print(calculate_grade(0.5))"
   ]
  },
  {
   "cell_type": "code",
   "execution_count": null,
   "id": "incoming-springer",
   "metadata": {
    "nbgrader": {
     "grade": true,
     "grade_id": "cell-7d6cdda40109c2a4",
     "locked": true,
     "points": 10,
     "schema_version": 3,
     "solution": false,
     "task": false
    }
   },
   "outputs": [],
   "source": [
    "from nose.tools import assert_equal, assert_raises\n",
    "\n",
    "assert_equal(calculate_grade(0.1), 5)\n",
    "assert_equal(calculate_grade(0.59), 5)\n",
    "assert_equal(calculate_grade(0.6), 4)\n",
    "assert_equal(calculate_grade(0.69), 4)\n",
    "assert_equal(calculate_grade(0.7), 3)\n",
    "assert_equal(calculate_grade(0.79), 3)\n",
    "assert_equal(calculate_grade(0.8), 2)\n",
    "assert_equal(calculate_grade(0.89), 2)\n",
    "assert_equal(calculate_grade(0.9), 1)\n",
    "assert_equal(calculate_grade(0.99), 1)\n",
    "\n",
    "assert_raises(ValueError, calculate_grade, 0.0)\n",
    "assert_raises(ValueError, calculate_grade, -1.0)\n",
    "assert_raises(ValueError, calculate_grade, 1.0)\n",
    "assert_raises(ValueError, calculate_grade, 10.0)\n",
    "assert_raises(ValueError, calculate_grade, -10.0)"
   ]
  }
 ],
 "metadata": {
  "celltoolbar": "Create Assignment",
  "kernelspec": {
   "display_name": "Python 3",
   "language": "python",
   "name": "python3"
  },
  "language_info": {
   "codemirror_mode": {
    "name": "ipython",
    "version": 3
   },
   "file_extension": ".py",
   "mimetype": "text/x-python",
   "name": "python",
   "nbconvert_exporter": "python",
   "pygments_lexer": "ipython3",
   "version": "3.7.3"
  }
 },
 "nbformat": 4,
 "nbformat_minor": 5
}
