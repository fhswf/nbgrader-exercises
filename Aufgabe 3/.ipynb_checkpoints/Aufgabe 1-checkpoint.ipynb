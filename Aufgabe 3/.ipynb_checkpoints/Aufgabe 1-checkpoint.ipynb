{
 "cells": [
  {
   "cell_type": "markdown",
   "id": "printable-gambling",
   "metadata": {
    "nbgrader": {
     "grade": false,
     "grade_id": "cell-07554cb2335ea2ff",
     "locked": true,
     "schema_version": 3,
     "solution": false,
     "task": false
    }
   },
   "source": [
    "# Aufgabe 1\n",
    "\n",
    "Verfollständige die folgende Funktion, welche das Monatsgehalt eines Mitarbeiters zurückgibt. Arbeitsstunden über 40 Stunden werden mit dem Faktor 1.5 multipliziert.<br>\n",
    "Runde das Ergebnis aus 2 Nachkommastellen!"
   ]
  },
  {
   "cell_type": "code",
   "execution_count": 15,
   "id": "educated-adrian",
   "metadata": {
    "nbgrader": {
     "grade": false,
     "grade_id": "cell-d61869b6e5e4ec5b",
     "locked": false,
     "schema_version": 3,
     "solution": true,
     "task": false
    }
   },
   "outputs": [
    {
     "ename": "IndentationError",
     "evalue": "expected an indented block (<ipython-input-15-2a74d391fdfb>, line 5)",
     "output_type": "error",
     "traceback": [
      "\u001b[0;36m  File \u001b[0;32m\"<ipython-input-15-2a74d391fdfb>\"\u001b[0;36m, line \u001b[0;32m5\u001b[0m\n\u001b[0;31m    print(calculate_salary(40, 1.2))\u001b[0m\n\u001b[0m        ^\u001b[0m\n\u001b[0;31mIndentationError\u001b[0m\u001b[0;31m:\u001b[0m expected an indented block\n"
     ]
    }
   ],
   "source": [
    "def calculate_salary(arbeitsstunden: float, stundenlohn: float) -> float:\n",
    "    ### BEGIN SOLUTION\n",
    "    ### END SOLUTION\n",
    "    \n",
    "print(calculate_salary(40, 1.2))"
   ]
  },
  {
   "cell_type": "code",
   "execution_count": 16,
   "id": "french-cleaner",
   "metadata": {
    "nbgrader": {
     "grade": true,
     "grade_id": "cell-7adafe3454ea1a76",
     "locked": true,
     "points": 10,
     "schema_version": 3,
     "solution": false,
     "task": false
    }
   },
   "outputs": [],
   "source": [
    "from nose.tools import assert_equal, assert_raises\n",
    "\n",
    "assert_equal(calculate_salary(45, 10), 475)\n",
    "assert_equal(calculate_salary(0, 0), 0)\n",
    "assert_equal(calculate_salary(0, 10.4), 0)\n",
    "assert_equal(calculate_salary(200, 12.6), 3528)\n",
    "assert_equal(calculate_salary(201, 12.6), 3546.9)\n",
    "assert_equal(calculate_salary(39, 22.1), 861.9)\n",
    "assert_equal(calculate_salary(40, 1.2), 48.0)\n",
    "\n",
    "assert_raises(ValueError, calculate_salary, -8.5, 12.5)\n",
    "assert_raises(ValueError, calculate_salary, 40, -10.62)\n",
    "assert_raises(ValueError, calculate_salary, -100, -12.5)\n",
    "assert_raises(ValueError, calculate_salary, -1.1, -0.1)"
   ]
  },
  {
   "cell_type": "code",
   "execution_count": null,
   "id": "composed-commerce",
   "metadata": {},
   "outputs": [],
   "source": []
  }
 ],
 "metadata": {
  "celltoolbar": "Create Assignment",
  "kernelspec": {
   "display_name": "Python 3",
   "language": "python",
   "name": "python3"
  },
  "language_info": {
   "codemirror_mode": {
    "name": "ipython",
    "version": 3
   },
   "file_extension": ".py",
   "mimetype": "text/x-python",
   "name": "python",
   "nbconvert_exporter": "python",
   "pygments_lexer": "ipython3",
   "version": "3.7.3"
  }
 },
 "nbformat": 4,
 "nbformat_minor": 5
}
