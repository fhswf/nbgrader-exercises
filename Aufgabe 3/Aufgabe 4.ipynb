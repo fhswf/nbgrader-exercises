{
 "cells": [
  {
   "cell_type": "markdown",
   "id": "tamil-gothic",
   "metadata": {
    "nbgrader": {
     "grade": false,
     "grade_id": "cell-789f96a16d5eeb7a",
     "locked": true,
     "schema_version": 3,
     "solution": false,
     "task": false
    }
   },
   "source": [
    "# Aufgabe 4\n",
    "\n",
    "Vervollständige die folgenden Funktionen, welche das Minimum und das Maximum ausgeben. Gib <b>None</b> zurück, wenn kein Minimum oder Maximum gefunden werden kann."
   ]
  },
  {
   "cell_type": "code",
   "execution_count": 5,
   "id": "charitable-maryland",
   "metadata": {
    "nbgrader": {
     "grade": false,
     "grade_id": "cell-f285d88888b6d2d9",
     "locked": false,
     "schema_version": 3,
     "solution": true,
     "task": false
    }
   },
   "outputs": [
    {
     "ename": "IndentationError",
     "evalue": "expected an indented block (<ipython-input-5-db88c27746e1>, line 7)",
     "output_type": "error",
     "traceback": [
      "\u001b[0;36m  File \u001b[0;32m\"<ipython-input-5-db88c27746e1>\"\u001b[0;36m, line \u001b[0;32m7\u001b[0m\n\u001b[0;31m    def maximum(liste: List[int]) -> int:\u001b[0m\n\u001b[0m      ^\u001b[0m\n\u001b[0;31mIndentationError\u001b[0m\u001b[0;31m:\u001b[0m expected an indented block\n"
     ]
    }
   ],
   "source": [
    "from typing import List\n",
    "\n",
    "def minimum(liste: List[int]) -> int:\n",
    "    ### BEGIN SOLUTION\n",
    "    ### END SOLUTION\n",
    "    \n",
    "def maximum(liste: List[int]) -> int:\n",
    "    ### BEGIN SOLUTION\n",
    "    ### END SOLUTION\n",
    "    \n",
    "print(minimum([4, 10, 3]))\n",
    "print(maximum([4, 10, 3]))"
   ]
  },
  {
   "cell_type": "code",
   "execution_count": null,
   "id": "intellectual-mouse",
   "metadata": {
    "nbgrader": {
     "grade": true,
     "grade_id": "cell-53441d2a2d9261a3",
     "locked": true,
     "points": 10,
     "schema_version": 3,
     "solution": false,
     "task": false
    }
   },
   "outputs": [],
   "source": [
    "from nose.tools import assert_equal\n",
    "\n",
    "assert_equal(minimum([10, 340, 50, 20, 10, 30, 50, 11, 2, 56, 13]), 2)\n",
    "assert_equal(minimum([40, 12, 12, 0, 99, -1, 4]), -1)\n",
    "assert_equal(minimum([-13, -314, 0, -53, -98, -1]), -314)\n",
    "assert_equal(minimum([1, 2, 3, 4, 5]), 1)\n",
    "\n",
    "assert_equal(maximum([19837, 9182, 1927, 784, 9182, 1, 0]), 19837)\n",
    "assert_equal(maximum([982, 1289, 1982, 491, 19]), 1982)\n",
    "assert_equal(maximum([0, 1, 2, 3, 4, 5]), 5)\n",
    "assert_equal(maximum([-1, -13, -52, -1, -985]), -1)\n",
    "assert_equal(maximum([0, 1]), 1)\n",
    "assert_equal(maximum([]), None)\n",
    "assert_equal(minimum([]), None)"
   ]
  }
 ],
 "metadata": {
  "celltoolbar": "Create Assignment",
  "kernelspec": {
   "display_name": "Python 3",
   "language": "python",
   "name": "python3"
  },
  "language_info": {
   "codemirror_mode": {
    "name": "ipython",
    "version": 3
   },
   "file_extension": ".py",
   "mimetype": "text/x-python",
   "name": "python",
   "nbconvert_exporter": "python",
   "pygments_lexer": "ipython3",
   "version": "3.7.3"
  }
 },
 "nbformat": 4,
 "nbformat_minor": 5
}
